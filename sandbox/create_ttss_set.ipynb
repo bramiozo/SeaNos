{
 "cells": [
  {
   "metadata": {},
   "cell_type": "markdown",
   "source": [
    "\n",
    "The purpose of this notebook is :\n",
    "* parse the Excel file with lyrics to \n",
    "* generate (text, **speech phrase**, **synthetic song phrase*, **actual song phrase**) quartets that can be used for training an autoencoder.\n",
    "\n",
    "Important: ensure that singer used for synthesis is the singer of the actual song\n",
    "\n",
    "This autoencoder should:\n",
    "* have as input(text, speech phrase, synthetic song phrase)\n",
    "* and output the actual song phrase\n",
    "\n"
   ],
   "id": "323bcf2883f503e1"
  },
  {
   "metadata": {
    "ExecuteTime": {
     "end_time": "2024-11-09T14:13:39.488142Z",
     "start_time": "2024-11-09T14:13:38.899435Z"
    }
   },
   "cell_type": "code",
   "source": [
    "%load_ext autoreload\n",
    "%autoreload 2\n",
    "import os\n",
    "import re\n",
    "import hashlib\n",
    "import pandas as pd\n",
    "import numpy as np\n",
    "from tqdm import tqdm"
   ],
   "id": "a412c01c67094899",
   "outputs": [],
   "execution_count": 1
  },
  {
   "metadata": {
    "ExecuteTime": {
     "end_time": "2024-11-09T14:13:39.990035Z",
     "start_time": "2024-11-09T14:13:39.515796Z"
    }
   },
   "cell_type": "code",
   "source": "os.chdir('/media/bramiozo/DATA-FAST/TTS/tts_models/gle/seannos_datasource')",
   "id": "ce9ea7fb762c15f1",
   "outputs": [
    {
     "ename": "FileNotFoundError",
     "evalue": "[Errno 2] No such file or directory: '/media/bramiozo/DATA-FAST/TTS/tts_models/gle/seannos_datasource'",
     "output_type": "error",
     "traceback": [
      "\u001B[0;31m---------------------------------------------------------------------------\u001B[0m",
      "\u001B[0;31mFileNotFoundError\u001B[0m                         Traceback (most recent call last)",
      "Cell \u001B[0;32mIn[2], line 1\u001B[0m\n\u001B[0;32m----> 1\u001B[0m \u001B[43mos\u001B[49m\u001B[38;5;241;43m.\u001B[39;49m\u001B[43mchdir\u001B[49m\u001B[43m(\u001B[49m\u001B[38;5;124;43m'\u001B[39;49m\u001B[38;5;124;43m/media/bramiozo/DATA-FAST/TTS/tts_models/gle/seannos_datasource\u001B[39;49m\u001B[38;5;124;43m'\u001B[39;49m\u001B[43m)\u001B[49m\n",
      "\u001B[0;31mFileNotFoundError\u001B[0m: [Errno 2] No such file or directory: '/media/bramiozo/DATA-FAST/TTS/tts_models/gle/seannos_datasource'"
     ]
    }
   ],
   "execution_count": 2
  },
  {
   "metadata": {},
   "cell_type": "code",
   "outputs": [],
   "execution_count": null,
   "source": "lyrics_original =  pd.read_excel('dataset_lyrics/lyrics.ods')\n",
   "id": "941f044c9ddf4f55"
  },
  {
   "metadata": {},
   "cell_type": "code",
   "outputs": [],
   "execution_count": null,
   "source": "",
   "id": "edbedad5990db1e4"
  }
 ],
 "metadata": {
  "kernelspec": {
   "display_name": "Python 3",
   "language": "python",
   "name": "python3"
  },
  "language_info": {
   "codemirror_mode": {
    "name": "ipython",
    "version": 2
   },
   "file_extension": ".py",
   "mimetype": "text/x-python",
   "name": "python",
   "nbconvert_exporter": "python",
   "pygments_lexer": "ipython2",
   "version": "2.7.6"
  }
 },
 "nbformat": 4,
 "nbformat_minor": 5
}
